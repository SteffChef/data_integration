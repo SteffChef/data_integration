{
 "cells": [
  {
   "cell_type": "markdown",
   "metadata": {},
   "source": [
    "### Data Prep"
   ]
  },
  {
   "cell_type": "code",
   "execution_count": 3,
   "metadata": {},
   "outputs": [
    {
     "name": "stdout",
     "output_type": "stream",
     "text": [
      "Excel file with all tables has been saved successfully!\n"
     ]
    }
   ],
   "source": [
    "import pandas as pd\n",
    "\n",
    "input_file_path = r\"C:\\Users\\domin\\Documents\\dive_sites_details.xlsx\"\n",
    "\n",
    "# Step 1: Read the Excel file\n",
    "dive_sites_data = pd.read_excel(input_file_path)\n",
    "\n",
    "# Step 2: Add an iterated ID column\n",
    "dive_sites_data['ID'] = range(1, len(dive_sites_data) + 1)\n",
    "\n",
    "# Step 3: Separate the Location into Latitude and Longitude\n",
    "dive_sites_data[['Latitude', 'Longitude']] = dive_sites_data['Location'].str.split(',', expand=True)\n",
    "dive_sites_data['Latitude'] = dive_sites_data['Latitude'].astype(float)\n",
    "dive_sites_data['Longitude'] = dive_sites_data['Longitude'].astype(float)\n",
    "\n",
    "# Step 4: Reorder the columns\n",
    "dive_sites_data = dive_sites_data[['ID', 'Latitude', 'Longitude', 'Title', 'Image', 'URL', 'Dive Types', 'Common Sightings', 'Maximum Depth', 'Rating']]\n",
    "\n",
    "# Step 5: Separate the Dive Types\n",
    "dive_sites_data['Dive Types'] = dive_sites_data['Dive Types'].str.split(',')\n",
    "dive_sites_data['Dive Types'] = dive_sites_data['Dive Types'].apply(\n",
    "    lambda x: [s.strip() for s in x if isinstance(s, str) and s.strip()] if isinstance(x, list) else []\n",
    ")\n",
    "\n",
    "dive_types_list = dive_sites_data.explode('Dive Types')[['Dive Types']].drop_duplicates().reset_index(drop=True)\n",
    "\n",
    "connections = dive_sites_data.explode('Dive Types')[['ID', 'Dive Types']]\n",
    "connections = connections[connections['Dive Types'].str.strip() != '']\n",
    "\n",
    "# Step 6: Separate the Common Sightings\n",
    "dive_sites_data['Common Sightings'] = dive_sites_data['Common Sightings'].str.split(',')\n",
    "dive_sites_data['Common Sightings'] = dive_sites_data['Common Sightings'].apply(\n",
    "    lambda x: [s.strip() for s in x if isinstance(s, str) and s.strip()] if isinstance(x, list) else []\n",
    ")\n",
    "\n",
    "dive_sites_data['Common Sightings'] = dive_sites_data['Common Sightings'].apply(lambda x: x if isinstance(x, list) else [])\n",
    "\n",
    "common_sightings_list = dive_sites_data.explode('Common Sightings')[['Common Sightings']].drop_duplicates().reset_index(drop=True)\n",
    "\n",
    "sightings_connections = dive_sites_data.explode('Common Sightings')[['ID', 'Common Sightings']]\n",
    "sightings_connections = sightings_connections[sightings_connections['Common Sightings'].notna() & (sightings_connections['Common Sightings'].str.strip() != '')]\n",
    "\n",
    "# Step 7: Drop Common Sightings and Dive Types from the original table\n",
    "dive_sites_data = dive_sites_data.drop(columns=['Common Sightings', 'Dive Types'])\n",
    "\n",
    "# Step 8: Save all DataFrames to an Excel file\n",
    "output_file_path = r\"C:\\Users\\domin\\Documents\\dive_sites_data.xlsx\"\n",
    "with pd.ExcelWriter(output_file_path) as writer:\n",
    "    dive_sites_data.to_excel(writer, sheet_name='Dive Sites', index=False)\n",
    "    connections.to_excel(writer, sheet_name='Dive Types Connections', index=False)\n",
    "    sightings_connections.to_excel(writer, sheet_name='Common Sightings Connections', index=False)\n",
    "\n",
    "print(\"Excel file with all tables has been saved successfully!\")\n"
   ]
  },
  {
   "cell_type": "markdown",
   "metadata": {},
   "source": [
    "### Data Analysis"
   ]
  },
  {
   "cell_type": "markdown",
   "metadata": {},
   "source": [
    "#### Clustering Dive Spots based on Location"
   ]
  },
  {
   "cell_type": "code",
   "execution_count": null,
   "metadata": {},
   "outputs": [],
   "source": []
  },
  {
   "cell_type": "markdown",
   "metadata": {},
   "source": [
    "#### Clustering Dive Spots based on Specifications"
   ]
  },
  {
   "cell_type": "code",
   "execution_count": null,
   "metadata": {},
   "outputs": [],
   "source": []
  },
  {
   "cell_type": "markdown",
   "metadata": {},
   "source": [
    "#### Clustering Users based on their existing Dives and Reviews"
   ]
  },
  {
   "cell_type": "code",
   "execution_count": null,
   "metadata": {},
   "outputs": [],
   "source": []
  },
  {
   "cell_type": "markdown",
   "metadata": {},
   "source": [
    "#### Combining Dive Spot Clustering and User Data"
   ]
  },
  {
   "cell_type": "code",
   "execution_count": null,
   "metadata": {},
   "outputs": [],
   "source": []
  },
  {
   "cell_type": "markdown",
   "metadata": {},
   "source": [
    "#### Build a Recommender Function"
   ]
  },
  {
   "cell_type": "code",
   "execution_count": null,
   "metadata": {},
   "outputs": [],
   "source": []
  }
 ],
 "metadata": {
  "kernelspec": {
   "display_name": "Python 3",
   "language": "python",
   "name": "python3"
  },
  "language_info": {
   "codemirror_mode": {
    "name": "ipython",
    "version": 3
   },
   "file_extension": ".py",
   "mimetype": "text/x-python",
   "name": "python",
   "nbconvert_exporter": "python",
   "pygments_lexer": "ipython3",
   "version": "3.12.7"
  }
 },
 "nbformat": 4,
 "nbformat_minor": 2
}
